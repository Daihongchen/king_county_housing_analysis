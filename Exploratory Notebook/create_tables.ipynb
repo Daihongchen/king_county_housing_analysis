{
 "cells": [
  {
   "cell_type": "code",
   "execution_count": 1,
   "metadata": {},
   "outputs": [],
   "source": [
    "import numpy as np\n",
    "import pandas as pd\n",
    "# import data_collection as dc\n",
    "\n",
    "import psycopg2\n",
    "import datetime\n",
    "\n",
    "import matplotlib.pyplot as plt\n",
    "import seaborn as sns\n",
    "\n",
    "import statsmodels.api as sm\n",
    "from statsmodels.formula.api import ols\n",
    "from statsmodels.stats.diagnostic import linear_rainbow, het_breuschpagan\n",
    "from statsmodels.stats.outliers_influence import variance_inflation_factor\n",
    "\n",
    "from sklearn.preprocessing import LabelEncoder\n",
    "\n",
    "import assumption_check as ac "
   ]
  },
  {
   "cell_type": "code",
   "execution_count": 2,
   "metadata": {},
   "outputs": [],
   "source": [
    "## code to open sql files. Dont need it now\n",
    "\n",
    "# file_obj = open('../src/sql/05_pull_extr_rpsale_2019.sql')\n",
    "\n",
    "# file_contents = file_obj.read()\n",
    "# file_obj.close()\n",
    "\n",
    "# file_contents\n",
    "# df_test = pd.read_sql(file_contents, conn)"
   ]
  },
  {
   "cell_type": "markdown",
   "metadata": {},
   "source": [
    "#### Import data"
   ]
  },
  {
   "cell_type": "code",
   "execution_count": null,
   "metadata": {},
   "outputs": [],
   "source": [
    "\n",
    "dbname = \"king_house\"\n",
    "\n",
    "conn = psycopg2.connect(dbname = dbname)\n",
    "\n",
    "df_sale = pd.read_sql(\"\"\"\n",
    "SELECT *\n",
    "\n",
    "FROM extr_rpsale\n",
    "\"\"\", conn)\n",
    "\n",
    "df_rdb = pd.read_sql(\"\"\"\n",
    "SELECT *\n",
    "\n",
    "FROM extr_resbldg\n",
    "\"\"\", conn)\n",
    "\n",
    "df_parcel = pd.read_sql(\"\"\"\n",
    "SELECT *\n",
    "\n",
    "FROM extr_parcel\n",
    "\n",
    "\"\"\", conn)\n",
    "\n",
    "df_lookup = pd.read_sql(\"\"\"\n",
    "SELECT *\n",
    "\n",
    "FROM look_up\n",
    "\n",
    "\"\"\", conn)\n"
   ]
  },
  {
   "cell_type": "markdown",
   "metadata": {},
   "source": [
    "### Create tables"
   ]
  },
  {
   "cell_type": "code",
   "execution_count": null,
   "metadata": {},
   "outputs": [],
   "source": [
    "df_lookup = df_lookup[df_lookup['LUType'] != 'LUType']\n",
    "df_lookup.head()"
   ]
  },
  {
   "cell_type": "code",
   "execution_count": null,
   "metadata": {},
   "outputs": [],
   "source": [
    "# Selcted variables from the residenstial building dataset:\n",
    "\n",
    "df_rdb = df_rdb[df_rdb['Major'] != 'Major']\n",
    "df_rdb['HID'] = df_rdb['Major'].str.zfill(6) + '-'+ df_rdb['Minor'].str.zfill(4)\n",
    "\n",
    "# columns = ['Major', 'Minor', 'SqFt1stFloor', 'SqFtHalfFloor', 'SqFt2ndFloor',\n",
    "#             'SqFtUpperFloor', 'SqFtUnfinFull', 'SqFtUnfinHalf', 'SqFtTotLiving',\n",
    "#             'SqFtTotBasement', 'SqFtFinBasement', 'FinBasementGrade','SqFtGarageBasement', \n",
    "#             'SqFtGarageAttached', 'DaylightBasement','SqFtOpenPorch', 'SqFtEnclosedPorch', 'SqFtDeck',\n",
    "#             'Bedrooms','BathHalfCount', 'Bath3qtrCount', 'BathFullCount', 'HID']\n",
    "# df_rdb_set = df_rdb.loc[:, columns]\n",
    "# df_rdb_set.head()"
   ]
  },
  {
   "cell_type": "code",
   "execution_count": null,
   "metadata": {},
   "outputs": [],
   "source": [
    "df_rdb.columns"
   ]
  },
  {
   "cell_type": "code",
   "execution_count": null,
   "metadata": {},
   "outputs": [],
   "source": [
    "# Selected variables from the parcel dataset:\n",
    "df_parcel = df_parcel[df_parcel['Major'] != 'Major']\n",
    "df_parcel['HID'] = df_parcel['Major'].str.zfill(6) + '-' + df_parcel['Minor'].str.zfill(4)\n",
    "\n",
    "# columns = ['Major', 'Minor', 'SqFtLot','WfntLocation', \n",
    "#            'TrafficNoise', 'AirportNoise', 'PowerLines', 'OtherNuisances', 'HID'] \n",
    "# df_parcel_set = df_parcel.loc[:, columns]\n",
    "df_parcel.shape\n",
    "\n",
    "#'PugetSound', 'LakeWashington','LakeSammamish', 'SmallLakeRiverCreek',"
   ]
  },
  {
   "cell_type": "code",
   "execution_count": null,
   "metadata": {},
   "outputs": [],
   "source": [
    "# Selseted variables from the property sale dataset: \n",
    "\n",
    "df_sale = df_sale[df_sale['Major'] != 'Major']\n",
    "\n",
    "df_sale['HID'] = df_sale['Major'].str.zfill(6) + '-' + df_sale['Minor'].str.zfill(4)\n",
    "df_sale_2019_set = df_sale[df_sale['DocumentDate'].str.contains('2019')]\n",
    "\n",
    "# columns = ['Major', 'Minor', 'DocumentDate', 'SalePrice', 'PropertyType', 'HID']\n",
    "# df_sale_2019_set = df_sale_2019.loc[:, columns]\n",
    "# df_sale_2019_.head()\n",
    "df_sale_2019_set.shape"
   ]
  },
  {
   "cell_type": "code",
   "execution_count": null,
   "metadata": {},
   "outputs": [],
   "source": [
    "# Join 3 datasets together\n",
    "\n",
    "df_combine = df_sale_2019_set.merge(df_parcel, how='inner', on='HID')\n",
    "df_combine = df_combine.merge(df_rdb, how='inner', on='HID')"
   ]
  },
  {
   "cell_type": "code",
   "execution_count": null,
   "metadata": {},
   "outputs": [],
   "source": [
    "df_combine.columns\n",
    "df_combine.shape"
   ]
  },
  {
   "cell_type": "code",
   "execution_count": null,
   "metadata": {},
   "outputs": [],
   "source": [
    "king_house_2019 = df_combine"
   ]
  },
  {
   "cell_type": "code",
   "execution_count": null,
   "metadata": {},
   "outputs": [],
   "source": [
    "king_house_2019 = king_house_2019.astype(\n",
    "                     {'SalePrice':'float',\n",
    "                      'SqFtLot':'float',  \n",
    "                      'SqFt1stFloor':'float', \n",
    "                       'SqFtHalfFloor':'float',\n",
    "                       'SqFt2ndFloor':'float', \n",
    "                       'SqFtUpperFloor':'float', \n",
    "                       'SqFtUnfinFull':'float', \n",
    "                       'SqFtUnfinHalf':'float',\n",
    "                       'SqFtTotLiving':'float', \n",
    "                       'SqFtTotBasement':'float', \n",
    "                       'SqFtFinBasement':'float',\n",
    "                       'FinBasementGrade':'float', \n",
    "                       'SqFtGarageBasement':'float', \n",
    "                       'SqFtGarageAttached':'float',\n",
    "                       'SqFtOpenPorch':'float', \n",
    "                       'SqFtEnclosedPorch':'float', \n",
    "                       'SqFtDeck':'float',\n",
    "                       'Bedrooms':'float', \n",
    "                       'BathHalfCount':'float', \n",
    "                       'Bath3qtrCount':'float', \n",
    "                       'BathFullCount':'float',\n",
    "                       'TrafficNoise': 'int', \n",
    "                       'AirportNoise':'float',\n",
    "                       }\n",
    "                      )"
   ]
  },
  {
   "cell_type": "code",
   "execution_count": null,
   "metadata": {},
   "outputs": [],
   "source": [
    "# king_house_2019.head()"
   ]
  },
  {
   "cell_type": "code",
   "execution_count": null,
   "metadata": {},
   "outputs": [],
   "source": [
    "cols = list(king_house_2019.columns)\n",
    "cols = [cols[2]] + cols[:2] + cols[3:]\n",
    "king_house_2019 = king_house_2019[cols]\n",
    "king_house_2019 = king_house_2019[(\n",
    "                                   (king_house_2019['PropertyType'] == '11') \n",
    "                                  |(king_house_2019['PropertyType'] == '12') \n",
    "                                  |(king_house_2019['PropertyType'] == '13') \n",
    "                                  |(king_house_2019['PropertyType'] == '14') \n",
    "                                )\n",
    "                                  & (king_house_2019.SalePrice >= 50000)]"
   ]
  },
  {
   "cell_type": "code",
   "execution_count": null,
   "metadata": {},
   "outputs": [],
   "source": [
    "# king_house_2019 = king_house_2019.drop(columns = ['Major_x', 'Major_y', 'Minor_x', 'Minor_y', 'DocumentDate', 'Major', 'Minor'])\n",
    "# king_house_2019 = king_house_2019.drop(columns = 'DocumentData')"
   ]
  },
  {
   "cell_type": "code",
   "execution_count": null,
   "metadata": {},
   "outputs": [],
   "source": [
    "king_house_2019.iloc[:, 13:30].head(20)\n",
    "\n",
    "king_house_2019['SqlTotal'] = king_house_2019['SqFt1stFloor'] + king_house_2019['SqFtHalfFloor'] + king_house_2019['SqFt2ndFloor']\\\n",
    "                         + king_house_2019['SqFtUpperFloor'] + king_house_2019['SqFtUnfinFull'] + king_house_2019['SqFtUnfinHalf']\\\n",
    "                         + king_house_2019['SqFtTotBasement'] + king_house_2019['SqFtFinBasement'] + king_house_2019['FinBasementGrade']\\\n",
    "                         + king_house_2019['SqFtGarageBasement'] + king_house_2019['SqFtGarageAttached'] \\\n",
    "                         + king_house_2019['SqFtOpenPorch'] + king_house_2019['SqFtEnclosedPorch'] + king_house_2019['SqFtDeck']\n",
    "\n",
    "king_house_2019['pwrlines'] = king_house_2019['PowerLines'] == 'Y'\n",
    "king_house_2019['othernuisance'] = king_house_2019['OtherNuisances']=='Y'"
   ]
  },
  {
   "cell_type": "code",
   "execution_count": null,
   "metadata": {},
   "outputs": [],
   "source": [
    "king_house_2019['nuisance_total'] = (\n",
    "    king_house_2019['AirportNoise'] +\n",
    "    king_house_2019['TrafficNoise'] +\n",
    "    king_house_2019['pwrlines'] +\n",
    "    king_house_2019['othernuisance']\n",
    ")"
   ]
  },
  {
   "cell_type": "code",
   "execution_count": null,
   "metadata": {},
   "outputs": [],
   "source": [
    "king_house_2019['PorchTotal']=king_house_2019.SqFtOpenPorch + king_house_2019.SqFtEnclosedPorch"
   ]
  },
  {
   "cell_type": "code",
   "execution_count": null,
   "metadata": {},
   "outputs": [],
   "source": [
    "king_house_2019['is_waterfront'] = (king_house_2019['WfntLocation'] != '0').astype(int)"
   ]
  },
  {
   "cell_type": "code",
   "execution_count": null,
   "metadata": {},
   "outputs": [],
   "source": [
    "king_house_2019['BathTotal'] = king_house_2019['BathHalfCount']*0.5 + king_house_2019['Bath3qtrCount'] * 0.75 + king_house_2019['BathFullCount']"
   ]
  },
  {
   "cell_type": "code",
   "execution_count": null,
   "metadata": {},
   "outputs": [],
   "source": [
    "# df_lookup_w = df_lookup[df_lookup['LUType']=='1  ']\n",
    "\n",
    "# df_lookup_w.head(10)"
   ]
  },
  {
   "cell_type": "code",
   "execution_count": null,
   "metadata": {},
   "outputs": [],
   "source": [
    "king_house_2019['PorchTotal'] = king_house_2019['SqFtOpenPorch'] + king_house_2019['SqFtEnclosedPorch']\n",
    "king_house_2019['is_porch'] = (king_house_2019['PorchTotal']==0).astype('int')"
   ]
  },
  {
   "cell_type": "code",
   "execution_count": null,
   "metadata": {},
   "outputs": [],
   "source": [
    "king_house_2019.columns"
   ]
  },
  {
   "cell_type": "code",
   "execution_count": null,
   "metadata": {},
   "outputs": [],
   "source": [
    "columns = ['SalePrice','SqFtTotLiving', 'Bedrooms', 'SqlTotal', 'BathTotal']\n",
    "df = king_house_2019[columns]\n",
    "colrelation = ac.correlation_fig(df)"
   ]
  },
  {
   "cell_type": "code",
   "execution_count": null,
   "metadata": {},
   "outputs": [],
   "source": [
    "columns = ['SalePrice', 'SqlTotal']\n",
    "df = king_house_2019"
   ]
  },
  {
   "cell_type": "code",
   "execution_count": null,
   "metadata": {},
   "outputs": [],
   "source": [
    "kh_base = ac.create_df(df, columns)\n",
    "\n",
    "kh_base_model = ac.create_model(kh_base)\n",
    "\n",
    "model_summary = ac.model_summary(kh_base_model)\n",
    "model_summary"
   ]
  },
  {
   "cell_type": "markdown",
   "metadata": {},
   "source": [
    "### Check liniear regression assumtions linearity:"
   ]
  },
  {
   "cell_type": "code",
   "execution_count": null,
   "metadata": {},
   "outputs": [],
   "source": [
    "check = ac.linearity_check(kh_base_model)"
   ]
  },
  {
   "cell_type": "markdown",
   "metadata": {},
   "source": [
    "### Check Normality\n",
    "\n",
    "The Jarque-Bera test is performed automatically as part of the model summary output, labeled Jarque-Bera (JB) and Prob(JB).\n",
    "\n",
    "The null hypothesis is that the residuals are normally distributed, alternative hypothesis is that they are not. Thus returning a low p-value means that the current model violates the normality assumption."
   ]
  },
  {
   "cell_type": "code",
   "execution_count": null,
   "metadata": {},
   "outputs": [],
   "source": [
    "ac.normality_check()"
   ]
  },
  {
   "cell_type": "markdown",
   "metadata": {},
   "source": [
    "### Check Homoscadasticity:\n",
    "Linear regression assumes that the variance of the dependent variable is homogeneous across different value of the independent variable(s). We can visualize this by looking at the predicted dependent variable values vs. the residuals."
   ]
  },
  {
   "cell_type": "code",
   "execution_count": null,
   "metadata": {},
   "outputs": [],
   "source": [
    "ac.homosdt_check_fig(kh_base, kh_base_model)\n"
   ]
  },
  {
   "cell_type": "code",
   "execution_count": null,
   "metadata": {},
   "outputs": [],
   "source": [
    "ac.homosdt_check_test(kh_base, kh_base_model)"
   ]
  },
  {
   "cell_type": "markdown",
   "metadata": {},
   "source": [
    "### Check Independence:\n",
    "The independence assumption means that the independent variables must not be too collinear. If we have only one independent variable, so we don't need to check this."
   ]
  },
  {
   "cell_type": "code",
   "execution_count": null,
   "metadata": {},
   "outputs": [],
   "source": [
    "# model 2: add new second variable is_water:\n",
    "columns = ['SalePrice', 'SqlTotal', 'BathTotal']\n",
    "df = king_house_2019\n",
    "\n",
    "kh_model2 = ac.create_df(df, columns)\n",
    "\n",
    "kh_model2.head()"
   ]
  },
  {
   "cell_type": "code",
   "execution_count": null,
   "metadata": {},
   "outputs": [],
   "source": [
    "model2 = ac.create_model(kh_model2)"
   ]
  },
  {
   "cell_type": "code",
   "execution_count": null,
   "metadata": {},
   "outputs": [],
   "source": [
    "ac.model_summary(model2)"
   ]
  },
  {
   "cell_type": "code",
   "execution_count": null,
   "metadata": {},
   "outputs": [],
   "source": [
    "ac.linearity_check(model2)"
   ]
  },
  {
   "cell_type": "code",
   "execution_count": null,
   "metadata": {},
   "outputs": [],
   "source": [
    "ac.normality_check()"
   ]
  },
  {
   "cell_type": "code",
   "execution_count": null,
   "metadata": {},
   "outputs": [],
   "source": [
    "ac.homosdt_check_fig(kh_model2, model2)"
   ]
  },
  {
   "cell_type": "code",
   "execution_count": null,
   "metadata": {},
   "outputs": [],
   "source": [
    "ac.homosdt_check_test(kh_model2, model2)"
   ]
  },
  {
   "cell_type": "code",
   "execution_count": null,
   "metadata": {},
   "outputs": [],
   "source": [
    "\n",
    "\n",
    "def independence_check(df):\n",
    "\n",
    "    rows = df.iloc[:, 1:].values\n",
    "\n",
    "    vif_df = pd.DataFrame()\n",
    "    vif_df[\"VIF\"] = [variance_inflation_factor(rows, i) for i in range(len(df.columns)-1)]\n",
    "    vif_df[\"feature\"] = list(df.columns[1:])\n",
    "\n",
    "    return vif_df\n",
    "\n",
    "independence_check(kh_model2)"
   ]
  },
  {
   "cell_type": "code",
   "execution_count": null,
   "metadata": {},
   "outputs": [],
   "source": [
    "ac.independence_check(kh_model2)"
   ]
  },
  {
   "cell_type": "code",
   "execution_count": null,
   "metadata": {},
   "outputs": [],
   "source": []
  },
  {
   "cell_type": "code",
   "execution_count": null,
   "metadata": {},
   "outputs": [],
   "source": []
  }
 ],
 "metadata": {
  "kernelspec": {
   "display_name": "kh-env",
   "language": "python",
   "name": "kh-env"
  },
  "language_info": {
   "codemirror_mode": {
    "name": "ipython",
    "version": 3
   },
   "file_extension": ".py",
   "mimetype": "text/x-python",
   "name": "python",
   "nbconvert_exporter": "python",
   "pygments_lexer": "ipython3",
   "version": "3.8.1"
  }
 },
 "nbformat": 4,
 "nbformat_minor": 4
}
