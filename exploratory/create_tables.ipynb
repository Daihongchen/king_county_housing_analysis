{
 "cells": [
  {
   "cell_type": "code",
   "execution_count": 1,
   "metadata": {},
   "outputs": [],
   "source": [
    "import numpy as np\n",
    "import pandas as pd\n",
    "import data_collection as dc\n",
    "import psycopg2\n",
    "import datetime\n"
   ]
  },
  {
   "cell_type": "code",
   "execution_count": 41,
   "metadata": {},
   "outputs": [],
   "source": [
    "## code to open sql files. Dont need it now\n",
    "\n",
    "# file_obj = open('../src/sql/05_pull_extr_rpsale_2019.sql')\n",
    "\n",
    "# file_contents = file_obj.read()\n",
    "# file_obj.close()\n",
    "\n",
    "# file_contents\n",
    "# df_test = pd.read_sql(file_contents, conn)"
   ]
  },
  {
   "cell_type": "code",
   "execution_count": 2,
   "metadata": {},
   "outputs": [],
   "source": [
    "dbname = \"king_house\""
   ]
  },
  {
   "cell_type": "code",
   "execution_count": 3,
   "metadata": {},
   "outputs": [],
   "source": [
    "conn = psycopg2.connect(dbname = dbname)"
   ]
  },
  {
   "cell_type": "code",
   "execution_count": 4,
   "metadata": {},
   "outputs": [],
   "source": [
    "df_sale = pd.read_sql(\"\"\"\n",
    "SELECT *\n",
    "\n",
    "FROM extr_rpsale\n",
    "\"\"\", conn)"
   ]
  },
  {
   "cell_type": "code",
   "execution_count": 5,
   "metadata": {},
   "outputs": [],
   "source": [
    "df_rdb = pd.read_sql(\"\"\"\n",
    "SELECT *\n",
    "\n",
    "FROM extr_resbldg\n",
    "\"\"\", conn)"
   ]
  },
  {
   "cell_type": "code",
   "execution_count": 6,
   "metadata": {},
   "outputs": [],
   "source": [
    "df_parcel = pd.read_sql(\"\"\"\n",
    "SELECT *\n",
    "\n",
    "FROM extr_parcel\n",
    "\n",
    "\"\"\", conn)"
   ]
  },
  {
   "cell_type": "code",
   "execution_count": 7,
   "metadata": {},
   "outputs": [],
   "source": [
    "df_lookup = pd.read_sql(\"\"\"\n",
    "SELECT *\n",
    "\n",
    "\n",
    "FROM look_up\n",
    "\n",
    "\"\"\", conn)"
   ]
  },
  {
   "cell_type": "code",
   "execution_count": 100,
   "metadata": {},
   "outputs": [],
   "source": [
    "df_lookup = df_lookup[df_lookup['LUType'] != 'LUType']"
   ]
  },
  {
   "cell_type": "code",
   "execution_count": 101,
   "metadata": {},
   "outputs": [],
   "source": [
    "# Selcted variables from the residenstial building dataset:\n",
    "\n",
    "df_rdb = df_rdb[df_rdb['Major'] != 'Major']\n",
    "df_rdb['HID'] = df_rdb['Major'] + df_rdb['Minor']\n",
    "\n",
    "columns = ['Major', 'Minor', 'SqFt1stFloor', 'SqFtHalfFloor', 'SqFt2ndFloor',\n",
    "            'SqFtUpperFloor', 'SqFtUnfinFull', 'SqFtUnfinHalf', 'SqFtTotLiving',\n",
    "            'SqFtTotBasement', 'SqFtFinBasement', 'FinBasementGrade','SqFtGarageBasement', \n",
    "            'SqFtGarageAttached', 'DaylightBasement','SqFtOpenPorch', 'SqFtEnclosedPorch', 'SqFtDeck',\n",
    "            'Bedrooms','BathHalfCount', 'Bath3qtrCount', 'BathFullCount', 'HID']\n",
    "df_rdb_set = df_rdb.loc[:, columns]"
   ]
  },
  {
   "cell_type": "code",
   "execution_count": 102,
   "metadata": {},
   "outputs": [
    {
     "data": {
      "text/html": [
       "<div>\n",
       "<style scoped>\n",
       "    .dataframe tbody tr th:only-of-type {\n",
       "        vertical-align: middle;\n",
       "    }\n",
       "\n",
       "    .dataframe tbody tr th {\n",
       "        vertical-align: top;\n",
       "    }\n",
       "\n",
       "    .dataframe thead th {\n",
       "        text-align: right;\n",
       "    }\n",
       "</style>\n",
       "<table border=\"1\" class=\"dataframe\">\n",
       "  <thead>\n",
       "    <tr style=\"text-align: right;\">\n",
       "      <th></th>\n",
       "      <th>Major</th>\n",
       "      <th>Minor</th>\n",
       "      <th>SqFtLot</th>\n",
       "      <th>PugetSound</th>\n",
       "      <th>LakeWashington</th>\n",
       "      <th>LakeSammamish</th>\n",
       "      <th>SmallLakeRiverCreek</th>\n",
       "      <th>TrafficNoise</th>\n",
       "      <th>AirportNoise</th>\n",
       "      <th>PowerLines</th>\n",
       "      <th>HID</th>\n",
       "    </tr>\n",
       "  </thead>\n",
       "  <tbody>\n",
       "    <tr>\n",
       "      <th>1</th>\n",
       "      <td>889250</td>\n",
       "      <td>80</td>\n",
       "      <td>10848</td>\n",
       "      <td>0</td>\n",
       "      <td>0</td>\n",
       "      <td>0</td>\n",
       "      <td>0</td>\n",
       "      <td>0</td>\n",
       "      <td>0</td>\n",
       "      <td>N</td>\n",
       "      <td>88925080</td>\n",
       "    </tr>\n",
       "    <tr>\n",
       "      <th>2</th>\n",
       "      <td>736360</td>\n",
       "      <td>275</td>\n",
       "      <td>9900</td>\n",
       "      <td>0</td>\n",
       "      <td>3</td>\n",
       "      <td>0</td>\n",
       "      <td>0</td>\n",
       "      <td>0</td>\n",
       "      <td>0</td>\n",
       "      <td>N</td>\n",
       "      <td>736360275</td>\n",
       "    </tr>\n",
       "    <tr>\n",
       "      <th>3</th>\n",
       "      <td>600350</td>\n",
       "      <td>635</td>\n",
       "      <td>610</td>\n",
       "      <td>0</td>\n",
       "      <td>0</td>\n",
       "      <td>0</td>\n",
       "      <td>0</td>\n",
       "      <td>0</td>\n",
       "      <td>0</td>\n",
       "      <td>N</td>\n",
       "      <td>600350635</td>\n",
       "    </tr>\n",
       "    <tr>\n",
       "      <th>4</th>\n",
       "      <td>635260</td>\n",
       "      <td>760</td>\n",
       "      <td>19007</td>\n",
       "      <td>0</td>\n",
       "      <td>0</td>\n",
       "      <td>0</td>\n",
       "      <td>0</td>\n",
       "      <td>0</td>\n",
       "      <td>0</td>\n",
       "      <td>N</td>\n",
       "      <td>635260760</td>\n",
       "    </tr>\n",
       "    <tr>\n",
       "      <th>5</th>\n",
       "      <td>333250</td>\n",
       "      <td>15</td>\n",
       "      <td>6600</td>\n",
       "      <td>0</td>\n",
       "      <td>0</td>\n",
       "      <td>0</td>\n",
       "      <td>0</td>\n",
       "      <td>0</td>\n",
       "      <td>0</td>\n",
       "      <td>N</td>\n",
       "      <td>33325015</td>\n",
       "    </tr>\n",
       "  </tbody>\n",
       "</table>\n",
       "</div>"
      ],
      "text/plain": [
       "    Major Minor SqFtLot PugetSound LakeWashington LakeSammamish  \\\n",
       "1  889250    80   10848          0              0             0   \n",
       "2  736360   275    9900          0              3             0   \n",
       "3  600350   635     610          0              0             0   \n",
       "4  635260   760   19007          0              0             0   \n",
       "5  333250    15    6600          0              0             0   \n",
       "\n",
       "  SmallLakeRiverCreek TrafficNoise AirportNoise PowerLines        HID  \n",
       "1                   0            0            0          N   88925080  \n",
       "2                   0            0            0          N  736360275  \n",
       "3                   0            0            0          N  600350635  \n",
       "4                   0            0            0          N  635260760  \n",
       "5                   0            0            0          N   33325015  "
      ]
     },
     "execution_count": 102,
     "metadata": {},
     "output_type": "execute_result"
    }
   ],
   "source": [
    "# Selected variables from the parcel dataset:\n",
    "df_parcel = df_parcel[df_parcel['Major'] != 'Major']\n",
    "df_parcel['HID'] = df_parcel['Major'] + df_parcel['Minor']\n",
    "\n",
    "columns = ['Major', 'Minor', 'SqFtLot','PugetSound', 'LakeWashington','LakeSammamish', \n",
    "           'SmallLakeRiverCreek', 'TrafficNoise', 'AirportNoise', 'PowerLines', 'HID'] \n",
    "df_parcel_set = df_parcel.loc[:, columns]\n",
    "df_parcel_set.head()"
   ]
  },
  {
   "cell_type": "code",
   "execution_count": 103,
   "metadata": {},
   "outputs": [],
   "source": [
    "# Selseted variables from the property sale dataset: \n",
    "\n",
    "df_sale = df_sale[df_sale['Major'] != 'Major']\n",
    "df_sale['Year'] = df_sale['DocumentDate'].str[6:]\n",
    "df_sale_2019 = df_sale[df_sale['Year'] == '2019']\n",
    "df_sale['HID'] = df_sale['Major'] + df_sale['Minor']\n",
    "\n",
    "columns = ['Major', 'Minor', 'DocumentDate', 'SalePrice', 'PropertyType', 'HID']\n",
    "df_sale_2019_set = df_sale_2019.loc[:, columns]"
   ]
  },
  {
   "cell_type": "code",
   "execution_count": 114,
   "metadata": {},
   "outputs": [],
   "source": [
    "# Join 3 datasets together\n",
    "\n",
    "df_combine = df_sale_2019_set.merge(df_parcel_set, left_on='HID', right_on='HID').merge(df_rdb_set, left_on='HID', right_on='HID')"
   ]
  },
  {
   "cell_type": "code",
   "execution_count": 113,
   "metadata": {},
   "outputs": [
    {
     "data": {
      "text/plain": [
       "Index(['Major_x', 'Minor_x', 'DocumentDate', 'SalePrice', 'PropertyType',\n",
       "       'HID', 'Major_y', 'Minor_y', 'SqFtLot', 'PugetSound', 'LakeWashington',\n",
       "       'LakeSammamish', 'SmallLakeRiverCreek', 'TrafficNoise', 'AirportNoise',\n",
       "       'PowerLines', 'Major', 'Minor', 'SqFt1stFloor', 'SqFtHalfFloor',\n",
       "       'SqFt2ndFloor', 'SqFtUpperFloor', 'SqFtUnfinFull', 'SqFtUnfinHalf',\n",
       "       'SqFtTotLiving', 'SqFtTotBasement', 'SqFtFinBasement',\n",
       "       'FinBasementGrade', 'SqFtGarageBasement', 'SqFtGarageAttached',\n",
       "       'DaylightBasement', 'SqFtOpenPorch', 'SqFtEnclosedPorch', 'SqFtDeck',\n",
       "       'Bedrooms', 'BathHalfCount', 'Bath3qtrCount', 'BathFullCount'],\n",
       "      dtype='object')"
      ]
     },
     "execution_count": 113,
     "metadata": {},
     "output_type": "execute_result"
    }
   ],
   "source": [
    "df_combine.columns"
   ]
  },
  {
   "cell_type": "code",
   "execution_count": null,
   "metadata": {},
   "outputs": [],
   "source": []
  },
  {
   "cell_type": "code",
   "execution_count": null,
   "metadata": {},
   "outputs": [],
   "source": []
  }
 ],
 "metadata": {
  "kernelspec": {
   "display_name": "kh-env",
   "language": "python",
   "name": "kh-env"
  },
  "language_info": {
   "codemirror_mode": {
    "name": "ipython",
    "version": 3
   },
   "file_extension": ".py",
   "mimetype": "text/x-python",
   "name": "python",
   "nbconvert_exporter": "python",
   "pygments_lexer": "ipython3",
   "version": "3.8.1"
  }
 },
 "nbformat": 4,
 "nbformat_minor": 4
}
