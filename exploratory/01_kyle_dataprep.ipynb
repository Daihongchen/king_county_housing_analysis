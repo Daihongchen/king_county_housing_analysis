{
 "cells": [
  {
   "cell_type": "code",
   "execution_count": 1,
   "metadata": {},
   "outputs": [],
   "source": [
    "%load_ext autoreload\n",
    "%autoreload 2"
   ]
  },
  {
   "cell_type": "code",
   "execution_count": 2,
   "metadata": {},
   "outputs": [],
   "source": [
    "import os\n",
    "import sys\n",
    "module_path = os.path.abspath(os.path.join(os.pardir))\n",
    "if module_path not in sys.path:\n",
    "    sys.path.append(module_path)\n",
    "    \n",
    "import numpy as np\n",
    "import pandas as pd\n",
    "import datetime\n",
    "import matplotlib.pyplot as plt\n",
    "import src.data_cleaning as dc\n",
    "\n",
    "import statsmodels.api as sm\n",
    "import statsmodels.stats.api as sms\n",
    "import statsmodels.formula.api as smf\n",
    "from statsmodels.stats.diagnostic import linear_rainbow, het_breuschpagan\n",
    "from statsmodels.stats.outliers_influence import variance_inflation_factor"
   ]
  },
  {
   "cell_type": "code",
   "execution_count": 3,
   "metadata": {},
   "outputs": [
    {
     "name": "stderr",
     "output_type": "stream",
     "text": [
      "/Users/kyledecember1/opt/anaconda3/envs/kh-env/lib/python3.8/site-packages/IPython/core/interactiveshell.py:3254: DtypeWarning: Columns (1,2) have mixed types.Specify dtype option on import or set low_memory=False.\n",
      "  if (await self.run_code(code, result,  async_=asy)):\n",
      "/Users/kyledecember1/opt/anaconda3/envs/kh-env/lib/python3.8/site-packages/IPython/core/interactiveshell.py:3254: DtypeWarning: Columns (11) have mixed types.Specify dtype option on import or set low_memory=False.\n",
      "  if (await self.run_code(code, result,  async_=asy)):\n"
     ]
    }
   ],
   "source": [
    "# defining the 4 dataframes from our .py file\n",
    "\n",
    "df_sales, df_resbldg, df_parcel, df_lookup = dc.create_dfs('EXTR_RPSale.csv', \n",
    "                                                           'EXTR_ResBldg.csv', \n",
    "                                                           'EXTR_Parcel.csv',\n",
    "                                                           'EXTR_LookUp.csv')"
   ]
  },
  {
   "cell_type": "markdown",
   "metadata": {},
   "source": [
    "##### \n"
   ]
  },
  {
   "cell_type": "code",
   "execution_count": null,
   "metadata": {},
   "outputs": [],
   "source": [
    "# filter for sales from 2019\n",
    "\n",
    "df_sales_2019 = dc.sales_2019(df_sales)"
   ]
  },
  {
   "cell_type": "code",
   "execution_count": null,
   "metadata": {},
   "outputs": [],
   "source": [
    "# combine major + minor to create HID column\n",
    "\n",
    "df_sales_2019['HID'] = (df_sales_2019['Major'].astype(str)).str.zfill(6) + '-' + (df_sales_2019['Minor'].astype(str)).str.zfill(4)\n",
    "df_resbldg['HID'] = (df_resbldg['Major'].astype(str)).str.zfill(6) + '-' + (df_resbldg['Minor'].astype(str)).str.zfill(4)\n",
    "df_parcel['HID'] = (df_parcel['Major'].astype(str)).str.zfill(6) + '-' + (df_parcel['Minor'].astype(str)).str.zfill(4)"
   ]
  },
  {
   "cell_type": "code",
   "execution_count": null,
   "metadata": {},
   "outputs": [],
   "source": [
    "#retain only relevant columns for df_sales_2019\n",
    "\n",
    "columns = ['Major', 'Minor', 'DocumentDate', 'SalePrice', 'PropertyType', 'HID']\n",
    "df_sales_2019 = df_sales_2019.loc[:, columns]"
   ]
  },
  {
   "cell_type": "code",
   "execution_count": null,
   "metadata": {},
   "outputs": [],
   "source": [
    "# new column for whether or not the location is waterfront property\n",
    "\n",
    "df_parcel['waterfront'] = df_parcel['WfntLocation'] > 0"
   ]
  },
  {
   "cell_type": "code",
   "execution_count": null,
   "metadata": {},
   "outputs": [],
   "source": [
    "df_parcel['AirportNoise'].unique()"
   ]
  },
  {
   "cell_type": "code",
   "execution_count": null,
   "metadata": {},
   "outputs": [],
   "source": [
    "# new column for whether or not there are power lines\n",
    "df_parcel['pwrlines'] = df_parcel['PowerLines'] == 'Y'\n",
    "\n",
    "# new column for whether or not there is some other nusiance\n",
    "df_parcel['othernuisance'] = df_parcel['OtherNuisances'] == 'Y'"
   ]
  },
  {
   "cell_type": "code",
   "execution_count": null,
   "metadata": {},
   "outputs": [],
   "source": [
    "# new column summing integer values corresponding to nuisances **pwrlines and othernuisance will be 1 for true\n",
    "# and 0 for false\n",
    "df_parcel['nuisance_total'] = (\n",
    "    df_parcel['AirportNoise'] +\n",
    "    df_parcel['TrafficNoise'] +\n",
    "    df_parcel['pwrlines'] +\n",
    "    df_parcel['othernuisance']\n",
    ")"
   ]
  },
  {
   "cell_type": "code",
   "execution_count": null,
   "metadata": {},
   "outputs": [],
   "source": [
    "df_parcel['nuisance_bool'] = df_parcel['nuisance_total'] > 0"
   ]
  },
  {
   "cell_type": "code",
   "execution_count": null,
   "metadata": {},
   "outputs": [],
   "source": [
    "df_parcel['nuisance_bool']"
   ]
  },
  {
   "cell_type": "code",
   "execution_count": null,
   "metadata": {},
   "outputs": [],
   "source": [
    "df_combined = df_sales_2019.merge(df_parcel, how='inner', on='HID')\n",
    "df_combined = df_combined.merge(df_resbldg, how='inner', on='HID')"
   ]
  },
  {
   "cell_type": "code",
   "execution_count": null,
   "metadata": {},
   "outputs": [],
   "source": [
    "df_combined"
   ]
  },
  {
   "cell_type": "code",
   "execution_count": null,
   "metadata": {},
   "outputs": [],
   "source": [
    "df_resbldg.columns"
   ]
  },
  {
   "cell_type": "code",
   "execution_count": null,
   "metadata": {},
   "outputs": [],
   "source": [
    "columns = ['SalePrice', 'SqFtTotLiving', 'NbrLivingUnits', 'Stories']\n",
    "df = df_combined[columns]\n",
    "df.corr()"
   ]
  },
  {
   "cell_type": "code",
   "execution_count": null,
   "metadata": {},
   "outputs": [],
   "source": [
    "df_master.corr()['SalePrice'].sort_values(ascending=False)[0:5]"
   ]
  },
  {
   "cell_type": "markdown",
   "metadata": {},
   "source": [
    "# post-refactoring function tests"
   ]
  },
  {
   "cell_type": "code",
   "execution_count": 4,
   "metadata": {},
   "outputs": [],
   "source": [
    "# filter for sales from 2019\n",
    "df_sales_2019 = dc.sales_2019(df_sales)"
   ]
  },
  {
   "cell_type": "code",
   "execution_count": 5,
   "metadata": {},
   "outputs": [
    {
     "name": "stderr",
     "output_type": "stream",
     "text": [
      "/Users/kyledecember1/mod_2/project/king_county_housing_analysis/src/data_cleaning.py:90: SettingWithCopyWarning: \n",
      "A value is trying to be set on a copy of a slice from a DataFrame.\n",
      "Try using .loc[row_indexer,col_indexer] = value instead\n",
      "\n",
      "See the caveats in the documentation: https://pandas.pydata.org/pandas-docs/stable/user_guide/indexing.html#returning-a-view-versus-a-copy\n",
      "  df['HID'] = (df['Major'].astype(str)).str.zfill(6) + '-' + (df['Minor'].astype(str)).str.zfill(4)\n"
     ]
    }
   ],
   "source": [
    "df_sales_2019 = dc.add_hid(df_sales_2019)\n",
    "df_resbldg = dc.add_hid(df_resbldg)\n",
    "df_parcel = dc.add_hid(df_parcel)"
   ]
  },
  {
   "cell_type": "code",
   "execution_count": 6,
   "metadata": {},
   "outputs": [],
   "source": [
    "df_sales_2019 = dc.clean_sales(df_sales_2019)"
   ]
  },
  {
   "cell_type": "code",
   "execution_count": 7,
   "metadata": {},
   "outputs": [],
   "source": [
    "#clean parcel\n",
    "df_parcel = dc.clean_parcel(df_parcel)"
   ]
  },
  {
   "cell_type": "code",
   "execution_count": 8,
   "metadata": {},
   "outputs": [],
   "source": [
    "df_master = dc.join_dfs(df_sales_2019, df_parcel, df_resbldg)"
   ]
  },
  {
   "cell_type": "code",
   "execution_count": 47,
   "metadata": {},
   "outputs": [],
   "source": [
    "df_master = dc.clean_master(df_master)"
   ]
  },
  {
   "cell_type": "code",
   "execution_count": 48,
   "metadata": {},
   "outputs": [
    {
     "data": {
      "text/plain": [
       "Index(['Major', 'Minor', 'BldgNbr', 'NbrLivingUnits', 'Address',\n",
       "       'BuildingNumber', 'Fraction', 'DirectionPrefix', 'StreetName',\n",
       "       'StreetType', 'DirectionSuffix', 'ZipCode', 'Stories', 'BldgGrade',\n",
       "       'BldgGradeVar', 'SqFt1stFloor', 'SqFtHalfFloor', 'SqFt2ndFloor',\n",
       "       'SqFtUpperFloor', 'SqFtUnfinFull', 'SqFtUnfinHalf', 'SqFtTotLiving',\n",
       "       'SqFtTotBasement', 'SqFtFinBasement', 'FinBasementGrade',\n",
       "       'SqFtGarageBasement', 'SqFtGarageAttached', 'DaylightBasement',\n",
       "       'SqFtOpenPorch', 'SqFtEnclosedPorch', 'SqFtDeck', 'HeatSystem',\n",
       "       'HeatSource', 'BrickStone', 'ViewUtilization', 'Bedrooms',\n",
       "       'BathHalfCount', 'Bath3qtrCount', 'BathFullCount', 'FpSingleStory',\n",
       "       'FpMultiStory', 'FpFreestanding', 'FpAdditional', 'YrBuilt',\n",
       "       'YrRenovated', 'PcntComplete', 'Obsolescence', 'PcntNetCondition',\n",
       "       'Condition', 'AddnlCost', 'HID'],\n",
       "      dtype='object')"
      ]
     },
     "execution_count": 48,
     "metadata": {},
     "output_type": "execute_result"
    }
   ],
   "source": [
    "df_resbldg.columns"
   ]
  },
  {
   "cell_type": "code",
   "execution_count": 11,
   "metadata": {},
   "outputs": [
    {
     "data": {
      "text/plain": [
       "Index(['Major', 'Minor', 'PropName', 'PlatName', 'PlatLot', 'PlatBlock',\n",
       "       'Range', 'Township', 'Section', 'QuarterSection', 'PropType', 'Area',\n",
       "       'SubArea', 'SpecArea', 'SpecSubArea', 'DistrictName', 'LevyCode',\n",
       "       'CurrentZoning', 'HBUAsIfVacant', 'HBUAsImproved', 'PresentUse',\n",
       "       'SqFtLot', 'WaterSystem', 'SewerSystem', 'Access', 'Topography',\n",
       "       'StreetSurface', 'RestrictiveSzShape', 'InadequateParking',\n",
       "       'PcntUnusable', 'Unbuildable', 'MtRainier', 'Olympics', 'Cascades',\n",
       "       'Territorial', 'SeattleSkyline', 'PugetSound', 'LakeWashington',\n",
       "       'LakeSammamish', 'SmallLakeRiverCreek', 'OtherView', 'WfntLocation',\n",
       "       'WfntFootage', 'WfntBank', 'WfntPoorQuality', 'WfntRestrictedAccess',\n",
       "       'WfntAccessRights', 'WfntProximityInfluence', 'TidelandShoreland',\n",
       "       'LotDepthFactor', 'TrafficNoise', 'AirportNoise', 'PowerLines',\n",
       "       'OtherNuisances', 'NbrBldgSites', 'Contamination', 'DNRLease',\n",
       "       'AdjacentGolfFairway', 'AdjacentGreenbelt', 'HistoricSite',\n",
       "       'CurrentUseDesignation', 'NativeGrowthProtEsmt', 'Easements',\n",
       "       'OtherDesignation', 'DeedRestrictions', 'DevelopmentRightsPurch',\n",
       "       'CoalMineHazard', 'CriticalDrainage', 'ErosionHazard', 'LandfillBuffer',\n",
       "       'HundredYrFloodPlain', 'SeismicHazard', 'LandslideHazard',\n",
       "       'SteepSlopeHazard', 'Stream', 'Wetland', 'SpeciesOfConcern',\n",
       "       'SensitiveAreaTract', 'WaterProblems', 'TranspConcurrency',\n",
       "       'OtherProblems', 'HID', 'waterfront', 'pwrlines', 'othernuisance',\n",
       "       'nuisance_total', 'nuisance'],\n",
       "      dtype='object')"
      ]
     },
     "execution_count": 11,
     "metadata": {},
     "output_type": "execute_result"
    }
   ],
   "source": [
    "df_parcel.columns"
   ]
  },
  {
   "cell_type": "code",
   "execution_count": 30,
   "metadata": {},
   "outputs": [
    {
     "data": {
      "text/html": [
       "<div>\n",
       "<style scoped>\n",
       "    .dataframe tbody tr th:only-of-type {\n",
       "        vertical-align: middle;\n",
       "    }\n",
       "\n",
       "    .dataframe tbody tr th {\n",
       "        vertical-align: top;\n",
       "    }\n",
       "\n",
       "    .dataframe thead th {\n",
       "        text-align: right;\n",
       "    }\n",
       "</style>\n",
       "<table border=\"1\" class=\"dataframe\">\n",
       "  <thead>\n",
       "    <tr style=\"text-align: right;\">\n",
       "      <th></th>\n",
       "      <th>LUType</th>\n",
       "      <th>LUItem</th>\n",
       "      <th>LUDescription</th>\n",
       "    </tr>\n",
       "  </thead>\n",
       "  <tbody>\n",
       "    <tr>\n",
       "      <th>981</th>\n",
       "      <td>54</td>\n",
       "      <td>1</td>\n",
       "      <td>UPLANDS ONLY                                  ...</td>\n",
       "    </tr>\n",
       "    <tr>\n",
       "      <th>982</th>\n",
       "      <td>54</td>\n",
       "      <td>2</td>\n",
       "      <td>UPLANDS WITH TIDELANDS/SHORELANDS             ...</td>\n",
       "    </tr>\n",
       "    <tr>\n",
       "      <th>983</th>\n",
       "      <td>54</td>\n",
       "      <td>3</td>\n",
       "      <td>TIDELANDS/SHORELANDS ONLY                     ...</td>\n",
       "    </tr>\n",
       "  </tbody>\n",
       "</table>\n",
       "</div>"
      ],
      "text/plain": [
       "     LUType  LUItem                                      LUDescription\n",
       "981      54       1  UPLANDS ONLY                                  ...\n",
       "982      54       2  UPLANDS WITH TIDELANDS/SHORELANDS             ...\n",
       "983      54       3  TIDELANDS/SHORELANDS ONLY                     ..."
      ]
     },
     "execution_count": 30,
     "metadata": {},
     "output_type": "execute_result"
    }
   ],
   "source": [
    "df_lookup[df_lookup['LUType'] == 54]"
   ]
  },
  {
   "cell_type": "code",
   "execution_count": 13,
   "metadata": {},
   "outputs": [
    {
     "data": {
      "text/plain": [
       "LevyCode         -0.064743\n",
       "Access           -0.060861\n",
       "FpFreestanding   -0.054539\n",
       "HeatSource       -0.042233\n",
       "Condition        -0.040312\n",
       "SubArea          -0.036108\n",
       "Area             -0.033877\n",
       "Major_y          -0.033433\n",
       "Major            -0.033433\n",
       "pwrlines         -0.018672\n",
       "Name: SalePrice, dtype: float64"
      ]
     },
     "execution_count": 13,
     "metadata": {},
     "output_type": "execute_result"
    }
   ],
   "source": [
    "df_master.corr()['SalePrice'].sort_values(ascending=True)[0:10]"
   ]
  },
  {
   "cell_type": "code",
   "execution_count": 14,
   "metadata": {},
   "outputs": [
    {
     "data": {
      "text/plain": [
       "SalePrice            1.000000\n",
       "SqFtTotLiving        0.587458\n",
       "BldgGrade            0.585183\n",
       "LakeWashington       0.400011\n",
       "SqFt1stFloor         0.378164\n",
       "SqFt2ndFloor         0.360103\n",
       "TidelandShoreland    0.357000\n",
       "Township             0.338378\n",
       "Territorial          0.319838\n",
       "waterfront           0.309146\n",
       "BathFullCount        0.302935\n",
       "WfntLocation         0.277178\n",
       "SqFtFinBasement      0.268744\n",
       "SqFtOpenPorch        0.257631\n",
       "SqFtTotBasement      0.248318\n",
       "Bedrooms             0.244816\n",
       "Stories              0.240688\n",
       "WfntBank             0.232639\n",
       "Bath3qtrCount        0.221987\n",
       "FinBasementGrade     0.221399\n",
       "Name: SalePrice, dtype: float64"
      ]
     },
     "execution_count": 14,
     "metadata": {},
     "output_type": "execute_result"
    }
   ],
   "source": [
    "df_master.corr()['SalePrice'].sort_values(ascending=False)[0:20]"
   ]
  },
  {
   "cell_type": "markdown",
   "metadata": {},
   "source": [
    "## Model 1"
   ]
  },
  {
   "cell_type": "code",
   "execution_count": 55,
   "metadata": {},
   "outputs": [
    {
     "data": {
      "text/html": [
       "<table class=\"simpletable\">\n",
       "<caption>OLS Regression Results</caption>\n",
       "<tr>\n",
       "  <th>Dep. Variable:</th>        <td>SalePrice</td>    <th>  R-squared:         </th>  <td>   0.345</td>  \n",
       "</tr>\n",
       "<tr>\n",
       "  <th>Model:</th>                   <td>OLS</td>       <th>  Adj. R-squared:    </th>  <td>   0.345</td>  \n",
       "</tr>\n",
       "<tr>\n",
       "  <th>Method:</th>             <td>Least Squares</td>  <th>  F-statistic:       </th>  <td>1.034e+04</td> \n",
       "</tr>\n",
       "<tr>\n",
       "  <th>Date:</th>             <td>Thu, 05 Mar 2020</td> <th>  Prob (F-statistic):</th>   <td>  0.00</td>   \n",
       "</tr>\n",
       "<tr>\n",
       "  <th>Time:</th>                 <td>14:38:00</td>     <th>  Log-Likelihood:    </th> <td>-2.8469e+05</td>\n",
       "</tr>\n",
       "<tr>\n",
       "  <th>No. Observations:</th>      <td> 19615</td>      <th>  AIC:               </th>  <td>5.694e+05</td> \n",
       "</tr>\n",
       "<tr>\n",
       "  <th>Df Residuals:</th>          <td> 19613</td>      <th>  BIC:               </th>  <td>5.694e+05</td> \n",
       "</tr>\n",
       "<tr>\n",
       "  <th>Df Model:</th>              <td>     1</td>      <th>                     </th>      <td> </td>     \n",
       "</tr>\n",
       "<tr>\n",
       "  <th>Covariance Type:</th>      <td>nonrobust</td>    <th>                     </th>      <td> </td>     \n",
       "</tr>\n",
       "</table>\n",
       "<table class=\"simpletable\">\n",
       "<tr>\n",
       "        <td></td>           <th>coef</th>     <th>std err</th>      <th>t</th>      <th>P>|t|</th>  <th>[0.025</th>    <th>0.975]</th>  \n",
       "</tr>\n",
       "<tr>\n",
       "  <th>const</th>         <td> 6894.9359</td> <td> 8527.177</td> <td>    0.809</td> <td> 0.419</td> <td>-9819.055</td> <td> 2.36e+04</td>\n",
       "</tr>\n",
       "<tr>\n",
       "  <th>SqFtTotLiving</th> <td>  370.3424</td> <td>    3.643</td> <td>  101.663</td> <td> 0.000</td> <td>  363.202</td> <td>  377.483</td>\n",
       "</tr>\n",
       "</table>\n",
       "<table class=\"simpletable\">\n",
       "<tr>\n",
       "  <th>Omnibus:</th>       <td>28637.505</td> <th>  Durbin-Watson:     </th>   <td>   1.730</td>  \n",
       "</tr>\n",
       "<tr>\n",
       "  <th>Prob(Omnibus):</th>  <td> 0.000</td>   <th>  Jarque-Bera (JB):  </th> <td>27494422.447</td>\n",
       "</tr>\n",
       "<tr>\n",
       "  <th>Skew:</th>           <td> 8.467</td>   <th>  Prob(JB):          </th>   <td>    0.00</td>  \n",
       "</tr>\n",
       "<tr>\n",
       "  <th>Kurtosis:</th>       <td>185.631</td>  <th>  Cond. No.          </th>   <td>5.75e+03</td>  \n",
       "</tr>\n",
       "</table><br/><br/>Warnings:<br/>[1] Standard Errors assume that the covariance matrix of the errors is correctly specified.<br/>[2] The condition number is large, 5.75e+03. This might indicate that there are<br/>strong multicollinearity or other numerical problems."
      ],
      "text/plain": [
       "<class 'statsmodels.iolib.summary.Summary'>\n",
       "\"\"\"\n",
       "                            OLS Regression Results                            \n",
       "==============================================================================\n",
       "Dep. Variable:              SalePrice   R-squared:                       0.345\n",
       "Model:                            OLS   Adj. R-squared:                  0.345\n",
       "Method:                 Least Squares   F-statistic:                 1.034e+04\n",
       "Date:                Thu, 05 Mar 2020   Prob (F-statistic):               0.00\n",
       "Time:                        14:38:00   Log-Likelihood:            -2.8469e+05\n",
       "No. Observations:               19615   AIC:                         5.694e+05\n",
       "Df Residuals:                   19613   BIC:                         5.694e+05\n",
       "Df Model:                           1                                         \n",
       "Covariance Type:            nonrobust                                         \n",
       "=================================================================================\n",
       "                    coef    std err          t      P>|t|      [0.025      0.975]\n",
       "---------------------------------------------------------------------------------\n",
       "const          6894.9359   8527.177      0.809      0.419   -9819.055    2.36e+04\n",
       "SqFtTotLiving   370.3424      3.643    101.663      0.000     363.202     377.483\n",
       "==============================================================================\n",
       "Omnibus:                    28637.505   Durbin-Watson:                   1.730\n",
       "Prob(Omnibus):                  0.000   Jarque-Bera (JB):         27494422.447\n",
       "Skew:                           8.467   Prob(JB):                         0.00\n",
       "Kurtosis:                     185.631   Cond. No.                     5.75e+03\n",
       "==============================================================================\n",
       "\n",
       "Warnings:\n",
       "[1] Standard Errors assume that the covariance matrix of the errors is correctly specified.\n",
       "[2] The condition number is large, 5.75e+03. This might indicate that there are\n",
       "strong multicollinearity or other numerical problems.\n",
       "\"\"\""
      ]
     },
     "execution_count": 55,
     "metadata": {},
     "output_type": "execute_result"
    }
   ],
   "source": [
    "dependent = ['SalePrice']\n",
    "features = ['SqFtTotLiving']\n",
    "\n",
    "desired_cols = dependent + features\n",
    "\n",
    "df_model = df_master[desired_cols].copy()\n",
    "df_model.dropna(inplace=True)\n",
    "\n",
    "y = df_model[dependent]\n",
    "x = df_model[features]\n",
    "\n",
    "model1 = sm.OLS(y, sm.add_constant(x)).fit()\n",
    "model1.summary()"
   ]
  },
  {
   "cell_type": "code",
   "execution_count": 16,
   "metadata": {},
   "outputs": [
    {
     "data": {
      "image/png": "[encoded data removed]",
      "text/plain": [
       "<Figure size 432x288 with 1 Axes>"
      ]
     },
     "metadata": {
      "needs_background": "light"
     },
     "output_type": "display_data"
    }
   ],
   "source": [
    "fig, ax = plt.subplots()\n",
    "ax.hist(df_model['SqFtTotLiving'], bins=100);"
   ]
  },
  {
   "cell_type": "code",
   "execution_count": 42,
   "metadata": {},
   "outputs": [
    {
     "data": {
      "text/plain": [
       "7400      250\n",
       "5817      300\n",
       "24538     300\n",
       "22689     300\n",
       "23596     300\n",
       "         ... \n",
       "14026    5283\n",
       "14025    5283\n",
       "26626    5520\n",
       "4225     5673\n",
       "12621    6540\n",
       "Name: SqFtTotLiving, Length: 15703, dtype: int64"
      ]
     },
     "execution_count": 42,
     "metadata": {},
     "output_type": "execute_result"
    }
   ],
   "source": [
    "df_model['SqFtTotLiving'].sort_values(ascending=True)"
   ]
  },
  {
   "cell_type": "markdown",
   "metadata": {},
   "source": [
    "## Model 2"
   ]
  },
  {
   "cell_type": "code",
   "execution_count": 61,
   "metadata": {},
   "outputs": [
    {
     "data": {
      "text/html": [
       "<table class=\"simpletable\">\n",
       "<caption>OLS Regression Results</caption>\n",
       "<tr>\n",
       "  <th>Dep. Variable:</th>        <td>SalePrice</td>    <th>  R-squared:         </th>  <td>   0.000</td>  \n",
       "</tr>\n",
       "<tr>\n",
       "  <th>Model:</th>                   <td>OLS</td>       <th>  Adj. R-squared:    </th>  <td>  -0.000</td>  \n",
       "</tr>\n",
       "<tr>\n",
       "  <th>Method:</th>             <td>Least Squares</td>  <th>  F-statistic:       </th>  <td>0.001305</td>  \n",
       "</tr>\n",
       "<tr>\n",
       "  <th>Date:</th>             <td>Thu, 05 Mar 2020</td> <th>  Prob (F-statistic):</th>   <td> 0.971</td>   \n",
       "</tr>\n",
       "<tr>\n",
       "  <th>Time:</th>                 <td>15:26:51</td>     <th>  Log-Likelihood:    </th> <td>-2.8884e+05</td>\n",
       "</tr>\n",
       "<tr>\n",
       "  <th>No. Observations:</th>      <td> 19615</td>      <th>  AIC:               </th>  <td>5.777e+05</td> \n",
       "</tr>\n",
       "<tr>\n",
       "  <th>Df Residuals:</th>          <td> 19613</td>      <th>  BIC:               </th>  <td>5.777e+05</td> \n",
       "</tr>\n",
       "<tr>\n",
       "  <th>Df Model:</th>              <td>     1</td>      <th>                     </th>      <td> </td>     \n",
       "</tr>\n",
       "<tr>\n",
       "  <th>Covariance Type:</th>      <td>nonrobust</td>    <th>                     </th>      <td> </td>     \n",
       "</tr>\n",
       "</table>\n",
       "<table class=\"simpletable\">\n",
       "<tr>\n",
       "      <td></td>        <th>coef</th>     <th>std err</th>      <th>t</th>      <th>P>|t|</th>  <th>[0.025</th>    <th>0.975]</th>  \n",
       "</tr>\n",
       "<tr>\n",
       "  <th>const</th>    <td> 7.987e+05</td> <td> 4716.203</td> <td>  169.343</td> <td> 0.000</td> <td> 7.89e+05</td> <td> 8.08e+05</td>\n",
       "</tr>\n",
       "<tr>\n",
       "  <th>nuisance</th> <td> -411.4822</td> <td> 1.14e+04</td> <td>   -0.036</td> <td> 0.971</td> <td>-2.27e+04</td> <td> 2.19e+04</td>\n",
       "</tr>\n",
       "</table>\n",
       "<table class=\"simpletable\">\n",
       "<tr>\n",
       "  <th>Omnibus:</th>       <td>24846.107</td> <th>  Durbin-Watson:     </th>  <td>   1.794</td>  \n",
       "</tr>\n",
       "<tr>\n",
       "  <th>Prob(Omnibus):</th>  <td> 0.000</td>   <th>  Jarque-Bera (JB):  </th> <td>9329915.649</td>\n",
       "</tr>\n",
       "<tr>\n",
       "  <th>Skew:</th>           <td> 6.679</td>   <th>  Prob(JB):          </th>  <td>    0.00</td>  \n",
       "</tr>\n",
       "<tr>\n",
       "  <th>Kurtosis:</th>       <td>109.006</td>  <th>  Cond. No.          </th>  <td>    2.74</td>  \n",
       "</tr>\n",
       "</table><br/><br/>Warnings:<br/>[1] Standard Errors assume that the covariance matrix of the errors is correctly specified."
      ],
      "text/plain": [
       "<class 'statsmodels.iolib.summary.Summary'>\n",
       "\"\"\"\n",
       "                            OLS Regression Results                            \n",
       "==============================================================================\n",
       "Dep. Variable:              SalePrice   R-squared:                       0.000\n",
       "Model:                            OLS   Adj. R-squared:                 -0.000\n",
       "Method:                 Least Squares   F-statistic:                  0.001305\n",
       "Date:                Thu, 05 Mar 2020   Prob (F-statistic):              0.971\n",
       "Time:                        15:26:51   Log-Likelihood:            -2.8884e+05\n",
       "No. Observations:               19615   AIC:                         5.777e+05\n",
       "Df Residuals:                   19613   BIC:                         5.777e+05\n",
       "Df Model:                           1                                         \n",
       "Covariance Type:            nonrobust                                         \n",
       "==============================================================================\n",
       "                 coef    std err          t      P>|t|      [0.025      0.975]\n",
       "------------------------------------------------------------------------------\n",
       "const       7.987e+05   4716.203    169.343      0.000    7.89e+05    8.08e+05\n",
       "nuisance    -411.4822   1.14e+04     -0.036      0.971   -2.27e+04    2.19e+04\n",
       "==============================================================================\n",
       "Omnibus:                    24846.107   Durbin-Watson:                   1.794\n",
       "Prob(Omnibus):                  0.000   Jarque-Bera (JB):          9329915.649\n",
       "Skew:                           6.679   Prob(JB):                         0.00\n",
       "Kurtosis:                     109.006   Cond. No.                         2.74\n",
       "==============================================================================\n",
       "\n",
       "Warnings:\n",
       "[1] Standard Errors assume that the covariance matrix of the errors is correctly specified.\n",
       "\"\"\""
      ]
     },
     "execution_count": 61,
     "metadata": {},
     "output_type": "execute_result"
    }
   ],
   "source": [
    "dependent = ['SalePrice']\n",
    "features = ['nuisance']\n",
    "\n",
    "desired_cols = dependent + features\n",
    "\n",
    "df_model2 = df_master[desired_cols].copy()\n",
    "df_model2.dropna(inplace=True)\n",
    "\n",
    "y = df_model2[dependent]\n",
    "x = df_model2[features]\n",
    "\n",
    "# print (dc.vif_test(df_model2, features))\n",
    "model2 = sm.OLS(y, sm.add_constant(x)).fit()\n",
    "model2.summary()"
   ]
  },
  {
   "cell_type": "code",
   "execution_count": 62,
   "metadata": {},
   "outputs": [
    {
     "data": {
      "text/html": [
       "<table class=\"simpletable\">\n",
       "<caption>OLS Regression Results</caption>\n",
       "<tr>\n",
       "  <th>Dep. Variable:</th>        <td>SalePrice</td>    <th>  R-squared:         </th>  <td>   0.476</td>  \n",
       "</tr>\n",
       "<tr>\n",
       "  <th>Model:</th>                   <td>OLS</td>       <th>  Adj. R-squared:    </th>  <td>   0.475</td>  \n",
       "</tr>\n",
       "<tr>\n",
       "  <th>Method:</th>             <td>Least Squares</td>  <th>  F-statistic:       </th>  <td>   3557.</td>  \n",
       "</tr>\n",
       "<tr>\n",
       "  <th>Date:</th>             <td>Thu, 05 Mar 2020</td> <th>  Prob (F-statistic):</th>   <td>  0.00</td>   \n",
       "</tr>\n",
       "<tr>\n",
       "  <th>Time:</th>                 <td>15:27:10</td>     <th>  Log-Likelihood:    </th> <td>-2.8251e+05</td>\n",
       "</tr>\n",
       "<tr>\n",
       "  <th>No. Observations:</th>      <td> 19615</td>      <th>  AIC:               </th>  <td>5.650e+05</td> \n",
       "</tr>\n",
       "<tr>\n",
       "  <th>Df Residuals:</th>          <td> 19609</td>      <th>  BIC:               </th>  <td>5.651e+05</td> \n",
       "</tr>\n",
       "<tr>\n",
       "  <th>Df Model:</th>              <td>     5</td>      <th>                     </th>      <td> </td>     \n",
       "</tr>\n",
       "<tr>\n",
       "  <th>Covariance Type:</th>      <td>nonrobust</td>    <th>                     </th>      <td> </td>     \n",
       "</tr>\n",
       "</table>\n",
       "<table class=\"simpletable\">\n",
       "<tr>\n",
       "         <td></td>           <th>coef</th>     <th>std err</th>      <th>t</th>      <th>P>|t|</th>  <th>[0.025</th>    <th>0.975]</th>  \n",
       "</tr>\n",
       "<tr>\n",
       "  <th>const</th>          <td> 4.483e+04</td> <td> 7972.623</td> <td>    5.623</td> <td> 0.000</td> <td> 2.92e+04</td> <td> 6.05e+04</td>\n",
       "</tr>\n",
       "<tr>\n",
       "  <th>SqFtTotLiving</th>  <td>  324.5572</td> <td>    3.542</td> <td>   91.637</td> <td> 0.000</td> <td>  317.615</td> <td>  331.499</td>\n",
       "</tr>\n",
       "<tr>\n",
       "  <th>LakeWashington</th> <td> 3.791e+05</td> <td> 8000.462</td> <td>   47.390</td> <td> 0.000</td> <td> 3.63e+05</td> <td> 3.95e+05</td>\n",
       "</tr>\n",
       "<tr>\n",
       "  <th>waterfront</th>     <td> 8.613e+05</td> <td> 2.54e+04</td> <td>   33.870</td> <td> 0.000</td> <td> 8.11e+05</td> <td> 9.11e+05</td>\n",
       "</tr>\n",
       "<tr>\n",
       "  <th>SqFtOpenPorch</th>  <td>  197.1002</td> <td>   22.626</td> <td>    8.711</td> <td> 0.000</td> <td>  152.751</td> <td>  241.450</td>\n",
       "</tr>\n",
       "<tr>\n",
       "  <th>nuisance</th>       <td> 4.467e+04</td> <td> 8278.348</td> <td>    5.396</td> <td> 0.000</td> <td> 2.84e+04</td> <td> 6.09e+04</td>\n",
       "</tr>\n",
       "</table>\n",
       "<table class=\"simpletable\">\n",
       "<tr>\n",
       "  <th>Omnibus:</th>       <td>24706.271</td> <th>  Durbin-Watson:     </th>   <td>   1.787</td>  \n",
       "</tr>\n",
       "<tr>\n",
       "  <th>Prob(Omnibus):</th>  <td> 0.000</td>   <th>  Jarque-Bera (JB):  </th> <td>16901858.682</td>\n",
       "</tr>\n",
       "<tr>\n",
       "  <th>Skew:</th>           <td> 6.360</td>   <th>  Prob(JB):          </th>   <td>    0.00</td>  \n",
       "</tr>\n",
       "<tr>\n",
       "  <th>Kurtosis:</th>       <td>146.243</td>  <th>  Cond. No.          </th>   <td>1.92e+04</td>  \n",
       "</tr>\n",
       "</table><br/><br/>Warnings:<br/>[1] Standard Errors assume that the covariance matrix of the errors is correctly specified.<br/>[2] The condition number is large, 1.92e+04. This might indicate that there are<br/>strong multicollinearity or other numerical problems."
      ],
      "text/plain": [
       "<class 'statsmodels.iolib.summary.Summary'>\n",
       "\"\"\"\n",
       "                            OLS Regression Results                            \n",
       "==============================================================================\n",
       "Dep. Variable:              SalePrice   R-squared:                       0.476\n",
       "Model:                            OLS   Adj. R-squared:                  0.475\n",
       "Method:                 Least Squares   F-statistic:                     3557.\n",
       "Date:                Thu, 05 Mar 2020   Prob (F-statistic):               0.00\n",
       "Time:                        15:27:10   Log-Likelihood:            -2.8251e+05\n",
       "No. Observations:               19615   AIC:                         5.650e+05\n",
       "Df Residuals:                   19609   BIC:                         5.651e+05\n",
       "Df Model:                           5                                         \n",
       "Covariance Type:            nonrobust                                         \n",
       "==================================================================================\n",
       "                     coef    std err          t      P>|t|      [0.025      0.975]\n",
       "----------------------------------------------------------------------------------\n",
       "const           4.483e+04   7972.623      5.623      0.000    2.92e+04    6.05e+04\n",
       "SqFtTotLiving    324.5572      3.542     91.637      0.000     317.615     331.499\n",
       "LakeWashington  3.791e+05   8000.462     47.390      0.000    3.63e+05    3.95e+05\n",
       "waterfront      8.613e+05   2.54e+04     33.870      0.000    8.11e+05    9.11e+05\n",
       "SqFtOpenPorch    197.1002     22.626      8.711      0.000     152.751     241.450\n",
       "nuisance        4.467e+04   8278.348      5.396      0.000    2.84e+04    6.09e+04\n",
       "==============================================================================\n",
       "Omnibus:                    24706.271   Durbin-Watson:                   1.787\n",
       "Prob(Omnibus):                  0.000   Jarque-Bera (JB):         16901858.682\n",
       "Skew:                           6.360   Prob(JB):                         0.00\n",
       "Kurtosis:                     146.243   Cond. No.                     1.92e+04\n",
       "==============================================================================\n",
       "\n",
       "Warnings:\n",
       "[1] Standard Errors assume that the covariance matrix of the errors is correctly specified.\n",
       "[2] The condition number is large, 1.92e+04. This might indicate that there are\n",
       "strong multicollinearity or other numerical problems.\n",
       "\"\"\""
      ]
     },
     "execution_count": 62,
     "metadata": {},
     "output_type": "execute_result"
    }
   ],
   "source": [
    "dependent = ['SalePrice']\n",
    "features = ['SqFtTotLiving', 'LakeWashington', 'waterfront', 'SqFtOpenPorch', '']\n",
    "\n",
    "desired_cols = dependent + features\n",
    "\n",
    "df_model2 = df_master[desired_cols].copy()\n",
    "df_model2.dropna(inplace=True)\n",
    "\n",
    "y = df_model2[dependent]\n",
    "x = df_model2[features]\n",
    "\n",
    "# print (dc.vif_test(df_model2, features))\n",
    "model2 = sm.OLS(y, sm.add_constant(x)).fit()\n",
    "model2.summary()"
   ]
  },
  {
   "cell_type": "code",
   "execution_count": 52,
   "metadata": {},
   "outputs": [
    {
     "name": "stdout",
     "output_type": "stream",
     "text": [
      "        VIF         feature\n",
      "0  1.593199   SqFtTotLiving\n",
      "1  1.137954  LakeWashington\n",
      "2  1.121946      waterfront\n",
      "3  1.403765   SqFtOpenPorch\n",
      "4  1.142317        nuisance\n",
      "\n"
     ]
    },
    {
     "data": {
      "text/html": [
       "<table class=\"simpletable\">\n",
       "<caption>OLS Regression Results</caption>\n",
       "<tr>\n",
       "  <th>Dep. Variable:</th>        <td>SalePrice</td>    <th>  R-squared:         </th>  <td>   0.476</td>  \n",
       "</tr>\n",
       "<tr>\n",
       "  <th>Model:</th>                   <td>OLS</td>       <th>  Adj. R-squared:    </th>  <td>   0.475</td>  \n",
       "</tr>\n",
       "<tr>\n",
       "  <th>Method:</th>             <td>Least Squares</td>  <th>  F-statistic:       </th>  <td>   3557.</td>  \n",
       "</tr>\n",
       "<tr>\n",
       "  <th>Date:</th>             <td>Thu, 05 Mar 2020</td> <th>  Prob (F-statistic):</th>   <td>  0.00</td>   \n",
       "</tr>\n",
       "<tr>\n",
       "  <th>Time:</th>                 <td>14:36:13</td>     <th>  Log-Likelihood:    </th> <td>-2.8251e+05</td>\n",
       "</tr>\n",
       "<tr>\n",
       "  <th>No. Observations:</th>      <td> 19615</td>      <th>  AIC:               </th>  <td>5.650e+05</td> \n",
       "</tr>\n",
       "<tr>\n",
       "  <th>Df Residuals:</th>          <td> 19609</td>      <th>  BIC:               </th>  <td>5.651e+05</td> \n",
       "</tr>\n",
       "<tr>\n",
       "  <th>Df Model:</th>              <td>     5</td>      <th>                     </th>      <td> </td>     \n",
       "</tr>\n",
       "<tr>\n",
       "  <th>Covariance Type:</th>      <td>nonrobust</td>    <th>                     </th>      <td> </td>     \n",
       "</tr>\n",
       "</table>\n",
       "<table class=\"simpletable\">\n",
       "<tr>\n",
       "         <td></td>           <th>coef</th>     <th>std err</th>      <th>t</th>      <th>P>|t|</th>  <th>[0.025</th>    <th>0.975]</th>  \n",
       "</tr>\n",
       "<tr>\n",
       "  <th>const</th>          <td> 4.483e+04</td> <td> 7972.623</td> <td>    5.623</td> <td> 0.000</td> <td> 2.92e+04</td> <td> 6.05e+04</td>\n",
       "</tr>\n",
       "<tr>\n",
       "  <th>SqFtTotLiving</th>  <td>  324.5572</td> <td>    3.542</td> <td>   91.637</td> <td> 0.000</td> <td>  317.615</td> <td>  331.499</td>\n",
       "</tr>\n",
       "<tr>\n",
       "  <th>LakeWashington</th> <td> 3.791e+05</td> <td> 8000.462</td> <td>   47.390</td> <td> 0.000</td> <td> 3.63e+05</td> <td> 3.95e+05</td>\n",
       "</tr>\n",
       "<tr>\n",
       "  <th>waterfront</th>     <td> 8.613e+05</td> <td> 2.54e+04</td> <td>   33.870</td> <td> 0.000</td> <td> 8.11e+05</td> <td> 9.11e+05</td>\n",
       "</tr>\n",
       "<tr>\n",
       "  <th>SqFtOpenPorch</th>  <td>  197.1002</td> <td>   22.626</td> <td>    8.711</td> <td> 0.000</td> <td>  152.751</td> <td>  241.450</td>\n",
       "</tr>\n",
       "<tr>\n",
       "  <th>nuisance</th>       <td> 4.467e+04</td> <td> 8278.348</td> <td>    5.396</td> <td> 0.000</td> <td> 2.84e+04</td> <td> 6.09e+04</td>\n",
       "</tr>\n",
       "</table>\n",
       "<table class=\"simpletable\">\n",
       "<tr>\n",
       "  <th>Omnibus:</th>       <td>24706.271</td> <th>  Durbin-Watson:     </th>   <td>   1.787</td>  \n",
       "</tr>\n",
       "<tr>\n",
       "  <th>Prob(Omnibus):</th>  <td> 0.000</td>   <th>  Jarque-Bera (JB):  </th> <td>16901858.682</td>\n",
       "</tr>\n",
       "<tr>\n",
       "  <th>Skew:</th>           <td> 6.360</td>   <th>  Prob(JB):          </th>   <td>    0.00</td>  \n",
       "</tr>\n",
       "<tr>\n",
       "  <th>Kurtosis:</th>       <td>146.243</td>  <th>  Cond. No.          </th>   <td>1.92e+04</td>  \n",
       "</tr>\n",
       "</table><br/><br/>Warnings:<br/>[1] Standard Errors assume that the covariance matrix of the errors is correctly specified.<br/>[2] The condition number is large, 1.92e+04. This might indicate that there are<br/>strong multicollinearity or other numerical problems."
      ],
      "text/plain": [
       "<class 'statsmodels.iolib.summary.Summary'>\n",
       "\"\"\"\n",
       "                            OLS Regression Results                            \n",
       "==============================================================================\n",
       "Dep. Variable:              SalePrice   R-squared:                       0.476\n",
       "Model:                            OLS   Adj. R-squared:                  0.475\n",
       "Method:                 Least Squares   F-statistic:                     3557.\n",
       "Date:                Thu, 05 Mar 2020   Prob (F-statistic):               0.00\n",
       "Time:                        14:36:13   Log-Likelihood:            -2.8251e+05\n",
       "No. Observations:               19615   AIC:                         5.650e+05\n",
       "Df Residuals:                   19609   BIC:                         5.651e+05\n",
       "Df Model:                           5                                         \n",
       "Covariance Type:            nonrobust                                         \n",
       "==================================================================================\n",
       "                     coef    std err          t      P>|t|      [0.025      0.975]\n",
       "----------------------------------------------------------------------------------\n",
       "const           4.483e+04   7972.623      5.623      0.000    2.92e+04    6.05e+04\n",
       "SqFtTotLiving    324.5572      3.542     91.637      0.000     317.615     331.499\n",
       "LakeWashington  3.791e+05   8000.462     47.390      0.000    3.63e+05    3.95e+05\n",
       "waterfront      8.613e+05   2.54e+04     33.870      0.000    8.11e+05    9.11e+05\n",
       "SqFtOpenPorch    197.1002     22.626      8.711      0.000     152.751     241.450\n",
       "nuisance        4.467e+04   8278.348      5.396      0.000    2.84e+04    6.09e+04\n",
       "==============================================================================\n",
       "Omnibus:                    24706.271   Durbin-Watson:                   1.787\n",
       "Prob(Omnibus):                  0.000   Jarque-Bera (JB):         16901858.682\n",
       "Skew:                           6.360   Prob(JB):                         0.00\n",
       "Kurtosis:                     146.243   Cond. No.                     1.92e+04\n",
       "==============================================================================\n",
       "\n",
       "Warnings:\n",
       "[1] Standard Errors assume that the covariance matrix of the errors is correctly specified.\n",
       "[2] The condition number is large, 1.92e+04. This might indicate that there are\n",
       "strong multicollinearity or other numerical problems.\n",
       "\"\"\""
      ]
     },
     "execution_count": 52,
     "metadata": {},
     "output_type": "execute_result"
    }
   ],
   "source": [
    "features = ['SqFtTotLiving', 'LakeWashington', 'waterfront', 'SqFtOpenPorch', 'nuisance']\n",
    "\n",
    "df_model_test, model_test = dc.create_model(dependent, features, df_master)\n",
    "\n",
    "print(dc.vif_test(df_model_test, features))\n",
    "print('')\n",
    "\n",
    "model_test.summary()"
   ]
  },
  {
   "cell_type": "code",
   "execution_count": 63,
   "metadata": {},
   "outputs": [
    {
     "data": {
      "text/html": [
       "<div>\n",
       "<style scoped>\n",
       "    .dataframe tbody tr th:only-of-type {\n",
       "        vertical-align: middle;\n",
       "    }\n",
       "\n",
       "    .dataframe tbody tr th {\n",
       "        vertical-align: top;\n",
       "    }\n",
       "\n",
       "    .dataframe thead th {\n",
       "        text-align: right;\n",
       "    }\n",
       "</style>\n",
       "<table border=\"1\" class=\"dataframe\">\n",
       "  <thead>\n",
       "    <tr style=\"text-align: right;\">\n",
       "      <th></th>\n",
       "      <th>VIF</th>\n",
       "      <th>feature</th>\n",
       "    </tr>\n",
       "  </thead>\n",
       "  <tbody>\n",
       "    <tr>\n",
       "      <th>0</th>\n",
       "      <td>10.371790</td>\n",
       "      <td>SqFtTotLiving</td>\n",
       "    </tr>\n",
       "    <tr>\n",
       "      <th>1</th>\n",
       "      <td>10.250762</td>\n",
       "      <td>BldgGrade</td>\n",
       "    </tr>\n",
       "    <tr>\n",
       "      <th>2</th>\n",
       "      <td>1.046782</td>\n",
       "      <td>LakeWashington</td>\n",
       "    </tr>\n",
       "  </tbody>\n",
       "</table>\n",
       "</div>"
      ],
      "text/plain": [
       "         VIF         feature\n",
       "0  10.371790   SqFtTotLiving\n",
       "1  10.250762       BldgGrade\n",
       "2   1.046782  LakeWashington"
      ]
     },
     "execution_count": 63,
     "metadata": {},
     "output_type": "execute_result"
    }
   ],
   "source": []
  },
  {
   "cell_type": "code",
   "execution_count": null,
   "metadata": {},
   "outputs": [],
   "source": []
  },
  {
   "cell_type": "code",
   "execution_count": null,
   "metadata": {},
   "outputs": [],
   "source": []
  },
  {
   "cell_type": "code",
   "execution_count": null,
   "metadata": {},
   "outputs": [],
   "source": []
  },
  {
   "cell_type": "code",
   "execution_count": 46,
   "metadata": {},
   "outputs": [
    {
     "data": {
      "text/plain": [
       "0     613945\n",
       "60        87\n",
       "59        62\n",
       "64        59\n",
       "61        47\n",
       "62        40\n",
       "63        36\n",
       "65        17\n",
       "66        14\n",
       "67        11\n",
       "68         9\n",
       "70         5\n",
       "69         3\n",
       "50         1\n",
       "1          1\n",
       "Name: AirportNoise, dtype: int64"
      ]
     },
     "execution_count": 46,
     "metadata": {},
     "output_type": "execute_result"
    }
   ],
   "source": [
    "df_parcel['AirportNoise'].value_counts()"
   ]
  },
  {
   "cell_type": "code",
   "execution_count": null,
   "metadata": {},
   "outputs": [],
   "source": []
  }
 ],
 "metadata": {
  "kernelspec": {
   "display_name": "kh_env",
   "language": "python",
   "name": "kh_env"
  },
  "language_info": {
   "codemirror_mode": {
    "name": "ipython",
    "version": 3
   },
   "file_extension": ".py",
   "mimetype": "text/x-python",
   "name": "python",
   "nbconvert_exporter": "python",
   "pygments_lexer": "ipython3",
   "version": "3.8.1"
  }
 },
 "nbformat": 4,
 "nbformat_minor": 4
}
