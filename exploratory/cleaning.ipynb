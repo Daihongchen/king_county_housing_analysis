{
 "cells": [
  {
   "cell_type": "code",
   "execution_count": 1,
   "metadata": {},
   "outputs": [],
   "source": [
    "%load_ext autoreload\n",
    "%autoreload 2"
   ]
  },
  {
   "cell_type": "code",
   "execution_count": 1,
   "metadata": {},
   "outputs": [],
   "source": [
    "import os\n",
    "import sys\n",
    "module_path = os.path.abspath(os.path.join(os.pardir))\n",
    "if module_path not in sys.path:\n",
    "    sys.path.append(module_path)\n",
    "    \n",
    "import numpy as np\n",
    "import pandas as pd\n",
    "import datetime\n",
    "\n",
    "import src.data_cleaning as dc"
   ]
  },
  {
   "cell_type": "code",
   "execution_count": 4,
   "metadata": {
    "collapsed": true,
    "jupyter": {
     "outputs_hidden": true
    }
   },
   "outputs": [
    {
     "ename": "ModuleNotFoundError",
     "evalue": "No module named 'matplotlib'",
     "output_type": "error",
     "traceback": [
      "\u001b[0;31m---------------------------------------------------------------------------\u001b[0m",
      "\u001b[0;31mModuleNotFoundError\u001b[0m                       Traceback (most recent call last)",
      "\u001b[0;32m<ipython-input-4-5488f68f4e64>\u001b[0m in \u001b[0;36m<module>\u001b[0;34m\u001b[0m\n\u001b[0;32m----> 1\u001b[0;31m \u001b[0;32mimport\u001b[0m \u001b[0mmatplotlib\u001b[0m \u001b[0;32mas\u001b[0m \u001b[0mplt\u001b[0m\u001b[0;34m\u001b[0m\u001b[0;34m\u001b[0m\u001b[0m\n\u001b[0m",
      "\u001b[0;31mModuleNotFoundError\u001b[0m: No module named 'matplotlib'"
     ]
    }
   ],
   "source": [
    "import matplotlib as plt"
   ]
  },
  {
   "cell_type": "code",
   "execution_count": 3,
   "metadata": {
    "collapsed": true,
    "jupyter": {
     "outputs_hidden": true
    }
   },
   "outputs": [
    {
     "name": "stderr",
     "output_type": "stream",
     "text": [
      "/Users/kyledecember1/opt/anaconda3/envs/learn-env/lib/python3.6/site-packages/IPython/core/interactiveshell.py:3249: DtypeWarning: Columns (1,2) have mixed types. Specify dtype option on import or set low_memory=False.\n",
      "  if (await self.run_code(code, result,  async_=asy)):\n",
      "/Users/kyledecember1/opt/anaconda3/envs/learn-env/lib/python3.6/site-packages/IPython/core/interactiveshell.py:3249: DtypeWarning: Columns (11) have mixed types. Specify dtype option on import or set low_memory=False.\n",
      "  if (await self.run_code(code, result,  async_=asy)):\n"
     ]
    }
   ],
   "source": [
    "# defining the 4 dataframes from our .py file\n",
    "\n",
    "df_sales, df_resbldg, df_parcel, df_lookup = dc.create_dfs('EXTR_RPSale.csv', \n",
    "                                                           'EXTR_ResBldg.csv', \n",
    "                                                           'EXTR_Parcel.csv',\n",
    "                                                           'EXTR_LookUp.csv')"
   ]
  },
  {
   "cell_type": "code",
   "execution_count": 4,
   "metadata": {
    "collapsed": true,
    "jupyter": {
     "outputs_hidden": true
    }
   },
   "outputs": [
    {
     "name": "stderr",
     "output_type": "stream",
     "text": [
      "/Users/kyledecember1/mod_2/project/king_county_housing_analysis/src/data_cleaning.py:32: FutureWarning: Comparing Series of datetimes with 'datetime.date'.  Currently, the\n",
      "'datetime.date' is coerced to a datetime. In the future pandas will\n",
      "not coerce, and a TypeError will be raised. To retain the current\n",
      "behavior, convert the 'datetime.date' to a datetime with\n",
      "'pd.Timestamp'.\n",
      "  df = df[df['datetime'] > yr2018]\n",
      "/Users/kyledecember1/mod_2/project/king_county_housing_analysis/src/data_cleaning.py:33: FutureWarning: Comparing Series of datetimes with 'datetime.date'.  Currently, the\n",
      "'datetime.date' is coerced to a datetime. In the future pandas will\n",
      "not coerce, and a TypeError will be raised. To retain the current\n",
      "behavior, convert the 'datetime.date' to a datetime with\n",
      "'pd.Timestamp'.\n",
      "  df = df[df['datetime'] < yr2020]\n"
     ]
    }
   ],
   "source": [
    "# filter for sales from 2019\n",
    "\n",
    "df_sales_2019 = dc.sales_2019(df_sales)"
   ]
  },
  {
   "cell_type": "code",
   "execution_count": 5,
   "metadata": {},
   "outputs": [],
   "source": [
    "# combine major + minor to create HID column\n",
    "\n",
    "df_sales_2019['HID'] = (df_sales_2019['Major'].astype(str)).str.zfill(6) + '-' + (df_sales_2019['Minor'].astype(str)).str.zfill(4)\n",
    "df_resbldg['HID'] = (df_resbldg['Major'].astype(str)).str.zfill(6) + '-' + (df_resbldg['Minor'].astype(str)).str.zfill(4)\n",
    "df_parcel['HID'] = (df_parcel['Major'].astype(str)).str.zfill(6) + '-' + (df_parcel['Minor'].astype(str)).str.zfill(4)"
   ]
  },
  {
   "cell_type": "code",
   "execution_count": 6,
   "metadata": {},
   "outputs": [],
   "source": [
    "#retain only relevant columns for df_sales_2019\n",
    "\n",
    "columns = ['Major', 'Minor', 'DocumentDate', 'SalePrice', 'PropertyType', 'HID']\n",
    "df_sales_2019 = df_sales_2019.loc[:, columns]"
   ]
  },
  {
   "cell_type": "code",
   "execution_count": null,
   "metadata": {},
   "outputs": [],
   "source": [
    "# new column for whether or not the location is waterfront property\n",
    "df_parcel['waterfront'] = df_parcel['WfntLocation'] > 0"
   ]
  },
  {
   "cell_type": "code",
   "execution_count": 8,
   "metadata": {},
   "outputs": [
    {
     "data": {
      "text/plain": [
       "array([ 0, 67, 59, 60, 66, 63, 61, 64, 65, 70, 62, 69, 68,  1, 50])"
      ]
     },
     "execution_count": 8,
     "metadata": {},
     "output_type": "execute_result"
    }
   ],
   "source": [
    "df_parcel['AirportNoise'].unique()\n",
    "print (type(df_parce['AirportNoise'])"
   ]
  },
  {
   "cell_type": "code",
   "execution_count": 9,
   "metadata": {},
   "outputs": [
    {
     "data": {
      "text/plain": [
       "array([0, 1, 2, 3])"
      ]
     },
     "execution_count": 9,
     "metadata": {},
     "output_type": "execute_result"
    }
   ],
   "source": [
    "df_parcel['TrafficNoise'].unique()"
   ]
  },
  {
   "cell_type": "code",
   "execution_count": 11,
   "metadata": {},
   "outputs": [
    {
     "data": {
      "text/html": [
       "<div>\n",
       "<style scoped>\n",
       "    .dataframe tbody tr th:only-of-type {\n",
       "        vertical-align: middle;\n",
       "    }\n",
       "\n",
       "    .dataframe tbody tr th {\n",
       "        vertical-align: top;\n",
       "    }\n",
       "\n",
       "    .dataframe thead th {\n",
       "        text-align: right;\n",
       "    }\n",
       "</style>\n",
       "<table border=\"1\" class=\"dataframe\">\n",
       "  <thead>\n",
       "    <tr style=\"text-align: right;\">\n",
       "      <th></th>\n",
       "      <th>LUType</th>\n",
       "      <th>LUItem</th>\n",
       "      <th>LUDescription</th>\n",
       "    </tr>\n",
       "  </thead>\n",
       "  <tbody>\n",
       "    <tr>\n",
       "      <td>964</td>\n",
       "      <td>50</td>\n",
       "      <td>1</td>\n",
       "      <td>DUWAMISH                                      ...</td>\n",
       "    </tr>\n",
       "    <tr>\n",
       "      <td>965</td>\n",
       "      <td>50</td>\n",
       "      <td>2</td>\n",
       "      <td>ELLIOTT BAY                                   ...</td>\n",
       "    </tr>\n",
       "    <tr>\n",
       "      <td>966</td>\n",
       "      <td>50</td>\n",
       "      <td>3</td>\n",
       "      <td>PUGET SOUND                                   ...</td>\n",
       "    </tr>\n",
       "    <tr>\n",
       "      <td>967</td>\n",
       "      <td>50</td>\n",
       "      <td>4</td>\n",
       "      <td>LAKE UNION                                    ...</td>\n",
       "    </tr>\n",
       "    <tr>\n",
       "      <td>968</td>\n",
       "      <td>50</td>\n",
       "      <td>5</td>\n",
       "      <td>SHIP CANAL                                    ...</td>\n",
       "    </tr>\n",
       "    <tr>\n",
       "      <td>969</td>\n",
       "      <td>50</td>\n",
       "      <td>6</td>\n",
       "      <td>LAKE WASH                                     ...</td>\n",
       "    </tr>\n",
       "    <tr>\n",
       "      <td>970</td>\n",
       "      <td>50</td>\n",
       "      <td>7</td>\n",
       "      <td>LAKE SAMM                                     ...</td>\n",
       "    </tr>\n",
       "    <tr>\n",
       "      <td>971</td>\n",
       "      <td>50</td>\n",
       "      <td>8</td>\n",
       "      <td>OTHER LAKE                                    ...</td>\n",
       "    </tr>\n",
       "    <tr>\n",
       "      <td>972</td>\n",
       "      <td>50</td>\n",
       "      <td>9</td>\n",
       "      <td>RIVER/SLOUGH                                  ...</td>\n",
       "    </tr>\n",
       "  </tbody>\n",
       "</table>\n",
       "</div>"
      ],
      "text/plain": [
       "     LUType  LUItem                                      LUDescription\n",
       "964      50       1  DUWAMISH                                      ...\n",
       "965      50       2  ELLIOTT BAY                                   ...\n",
       "966      50       3  PUGET SOUND                                   ...\n",
       "967      50       4  LAKE UNION                                    ...\n",
       "968      50       5  SHIP CANAL                                    ...\n",
       "969      50       6  LAKE WASH                                     ...\n",
       "970      50       7  LAKE SAMM                                     ...\n",
       "971      50       8  OTHER LAKE                                    ...\n",
       "972      50       9  RIVER/SLOUGH                                  ..."
      ]
     },
     "execution_count": 11,
     "metadata": {},
     "output_type": "execute_result"
    }
   ],
   "source": [
    "df_lookup[df_lookup['LUType'] == 50]"
   ]
  },
  {
   "cell_type": "code",
   "execution_count": null,
   "metadata": {},
   "outputs": [],
   "source": []
  }
 ],
 "metadata": {
  "kernelspec": {
   "display_name": "kh_env",
   "language": "python",
   "name": "kh_env"
  },
  "language_info": {
   "codemirror_mode": {
    "name": "ipython",
    "version": 3
   },
   "file_extension": ".py",
   "mimetype": "text/x-python",
   "name": "python",
   "nbconvert_exporter": "python",
   "pygments_lexer": "ipython3",
   "version": "3.8.1"
  }
 },
 "nbformat": 4,
 "nbformat_minor": 4
}
